{
 "cells": [
  {
   "cell_type": "code",
   "execution_count": null,
   "metadata": {},
   "outputs": [],
   "source": [
    "# -*- coding: utf-8 -*-\n",
    "\"\"\"\n",
    "Created on Wed Feb 10 10:41:11 2021\n",
    "\n",
    "@author: user\n",
    "\"\"\"\n",
    "\n",
    "import numpy as np\n",
    "from sklearn import  linear_model\n",
    "\n",
    "#Training Data\n",
    "X = np.array([[1],[2],[3],[4]])\n",
    "print(X)\n",
    "\n",
    "y = np.array([[0],[1],[1],[2]])\n",
    "print(y)\n",
    "\n",
    "#Create linear regression object\n",
    "reg = linear_model.LinearRegression()\n",
    "\n",
    "#Train the model using the training sets\n",
    "reg.fit(X, y)\n",
    "\n",
    "# The coefficients\n",
    "print('Coefficients: \\n', reg.coef_,  reg.intercept_)\n",
    "\n",
    "#Testing Data\n",
    "X_test = np.array([[26] ])\n",
    "\n",
    "print('Predictions using the testing set')\n",
    "y_test = reg.predict(X_test)\n",
    "\n",
    "print(y_test)\n",
    "\n",
    "\n",
    "\n",
    "\n"
   ]
  }
 ],
 "metadata": {
  "anaconda-cloud": {},
  "kernelspec": {
   "display_name": "Python 3",
   "language": "python",
   "name": "python3"
  },
  "language_info": {
   "codemirror_mode": {
    "name": "ipython",
    "version": 3
   },
   "file_extension": ".py",
   "mimetype": "text/x-python",
   "name": "python",
   "nbconvert_exporter": "python",
   "pygments_lexer": "ipython3",
   "version": "3.8.5"
  }
 },
 "nbformat": 4,
 "nbformat_minor": 4
}
