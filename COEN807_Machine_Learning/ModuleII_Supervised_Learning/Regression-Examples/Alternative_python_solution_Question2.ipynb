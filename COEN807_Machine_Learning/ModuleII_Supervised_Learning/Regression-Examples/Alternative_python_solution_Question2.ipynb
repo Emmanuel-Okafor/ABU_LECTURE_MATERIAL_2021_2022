{
 "cells": [
  {
   "cell_type": "code",
   "execution_count": 1,
   "metadata": {},
   "outputs": [
    {
     "name": "stdout",
     "output_type": "stream",
     "text": [
      "Input Examples\n",
      "[[1 0 0]\n",
      " [1 0 1]\n",
      " [1 1 0]\n",
      " [1 1 1]]\n",
      "[[4 2 2]\n",
      " [2 2 1]\n",
      " [2 1 2]]\n",
      "[[ 0.75 -0.5  -0.5 ]\n",
      " [-0.5   1.    0.  ]\n",
      " [-0.5   0.    1.  ]]\n",
      "Updated Weights\n",
      "[0.25 0.5  0.5 ]\n",
      "Predicted Outputs\n",
      "[0.25 0.75 0.75 1.25]\n",
      "Prediction Error\n",
      "0.125\n"
     ]
    }
   ],
   "source": [
    "#OpTIMAL sOLUTION\n",
    "import numpy as np\n",
    "#import matplotlib.pyplot as plt\n",
    "\n",
    "#Iteration 0\n",
    "#Inputs\n",
    "X =  [[1,0,0],[1,0,1],[1,1,0],[1,1,1]]\n",
    "X = np.array(X)\n",
    "print('Input Examples')\n",
    "print(X)\n",
    "\n",
    "X_X_dot = np.dot(np.transpose(X),X)\n",
    "print(X_X_dot)\n",
    "\n",
    "X_Xinv = np.linalg.inv(np.dot(np.transpose(X),X))\n",
    "\n",
    "print(X_Xinv)\n",
    "\n",
    "#Actual Target\n",
    "D = [0, 1, 1, 1]\n",
    "\n",
    "W_1 = np.dot(np.dot(np.transpose(D),X),np.linalg.inv(np.dot(np.transpose(X),X)))\n",
    "\n",
    "print('Updated Weights')\n",
    "print(W_1)\n",
    "\n",
    "\n",
    "Y_1 = np.sum(X*W_1, axis=1)\n",
    "print('Predicted Outputs')\n",
    "print(Y_1)\n",
    "\n",
    "#Error\n",
    "print('Prediction Error')\n",
    "E = 0.5*np.sum((D - Y_1)*(D - Y_1), axis=0)\n",
    "print(E)\n",
    "\n"
   ]
  }
 ],
 "metadata": {
  "anaconda-cloud": {},
  "kernelspec": {
   "display_name": "Python 3",
   "language": "python",
   "name": "python3"
  },
  "language_info": {
   "codemirror_mode": {
    "name": "ipython",
    "version": 3
   },
   "file_extension": ".py",
   "mimetype": "text/x-python",
   "name": "python",
   "nbconvert_exporter": "python",
   "pygments_lexer": "ipython3",
   "version": "3.8.5"
  }
 },
 "nbformat": 4,
 "nbformat_minor": 4
}
