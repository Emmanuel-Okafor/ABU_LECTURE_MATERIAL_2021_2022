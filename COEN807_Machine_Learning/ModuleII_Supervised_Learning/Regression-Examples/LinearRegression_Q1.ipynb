{
 "cells": [
  {
   "cell_type": "code",
   "execution_count": 3,
   "metadata": {},
   "outputs": [
    {
     "name": "stdout",
     "output_type": "stream",
     "text": [
      "[[1]\n",
      " [2]\n",
      " [3]\n",
      " [4]]\n",
      "[[0]\n",
      " [1]\n",
      " [1]\n",
      " [2]]\n",
      "Coefficients: \n",
      " [[0.6]] [-0.5]\n",
      "Predictions using the testing set\n",
      "[[15.1]]\n",
      "Coefficient of  determination\n",
      "0.8999999999999999\n"
     ]
    }
   ],
   "source": [
    "# -*- coding: utf-8 -*-\n",
    "\"\"\"\n",
    "Created on Wed Feb 10 10:41:11 2021\n",
    "\n",
    "@author: user\n",
    "\"\"\"\n",
    "import matplotlib.pyplot as plt\n",
    "import numpy as np\n",
    "from sklearn import  linear_model\n",
    "from sklearn.metrics import r2_score\n",
    "\n",
    "#Training Data\n",
    "X = np.array([[1],[2],[3],[4]])\n",
    "print(X)\n",
    "\n",
    "y = np.array([[0],[1],[1],[2]])\n",
    "print(y)\n",
    "\n",
    "#Create linear regression object\n",
    "reg = linear_model.LinearRegression()\n",
    "\n",
    "#Train the model using the training sets\n",
    "reg.fit(X, y)\n",
    "\n",
    "# The coefficients\n",
    "print('Coefficients: \\n', reg.coef_,  reg.intercept_)\n",
    "\n",
    "#Testing Data\n",
    "X_test = np.array([[26] ])\n",
    "\n",
    "print('Predictions using the testing set')\n",
    "y_test = reg.predict(X_test)\n",
    "\n",
    "print(y_test)\n",
    "\n",
    "print('Coefficient of  determination')\n",
    "y_train = reg.predict(X)\n",
    "R2 = r2_score(y,y_train)\n",
    "print(R2)\n",
    "\n",
    "\n",
    "\n",
    "\n"
   ]
  }
 ],
 "metadata": {
  "anaconda-cloud": {},
  "kernelspec": {
   "display_name": "Python 3",
   "language": "python",
   "name": "python3"
  },
  "language_info": {
   "codemirror_mode": {
    "name": "ipython",
    "version": 3
   },
   "file_extension": ".py",
   "mimetype": "text/x-python",
   "name": "python",
   "nbconvert_exporter": "python",
   "pygments_lexer": "ipython3",
   "version": "3.8.5"
  }
 },
 "nbformat": 4,
 "nbformat_minor": 4
}
